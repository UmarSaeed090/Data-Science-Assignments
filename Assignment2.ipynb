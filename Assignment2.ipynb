{
  "nbformat": 4,
  "nbformat_minor": 0,
  "metadata": {
    "colab": {
      "provenance": []
    },
    "kernelspec": {
      "name": "python3",
      "display_name": "Python 3"
    },
    "language_info": {
      "name": "python"
    }
  },
  "cells": [
    {
      "cell_type": "markdown",
      "source": [
        "Question No 1"
      ],
      "metadata": {
        "id": "-1G3aKFv9IHp"
      }
    },
    {
      "cell_type": "code",
      "source": [
        "import pandas as pd\n",
        "import matplotlib.pyplot as plt\n",
        "\n",
        "\n",
        "from google.colab import drive\n",
        "drive.mount('/content/drive')\n",
        "\n"
      ],
      "metadata": {
        "colab": {
          "base_uri": "https://localhost:8080/"
        },
        "id": "n1MqCR6N9MkR",
        "outputId": "1e7145b0-e531-49b2-e94b-d9798b151ff0"
      },
      "execution_count": 3,
      "outputs": [
        {
          "output_type": "stream",
          "name": "stdout",
          "text": [
            "Mounted at /content/drive\n"
          ]
        }
      ]
    },
    {
      "cell_type": "code",
      "source": [
        "\n",
        "file_path = ('/content/drive/My Drive/IDS DATASETS/world_pop.csv')\n",
        "data = pd.read_csv(file_path)"
      ],
      "metadata": {
        "id": "GZxi3BwlqO0Z"
      },
      "execution_count": 4,
      "outputs": []
    },
    {
      "cell_type": "code",
      "source": [
        "data_2020 = data['year_2020']\n",
        "data_2020_sorted = data_2020.sort_values(ascending=False).head(10)\n",
        "\n",
        "\n",
        "top_10_countries = data_2020_sorted['country'].tolist()\n",
        "\n",
        "top_10_data = data[data['country'].isin(top_10_countries)]\n",
        "\n",
        "pivot_data = top_10_data.pivot(index='Year', columns='Country Name', values='Population')\n",
        "\n",
        "plt.figure(figsize=(12, 8))\n"
      ],
      "metadata": {
        "id": "V5NmYKr5-9zT"
      },
      "execution_count": null,
      "outputs": []
    },
    {
      "cell_type": "code",
      "source": [
        "for country in top_10_countries:\n",
        "    plt.plot(pivot_data.index, pivot_data[country], label=country)\n",
        "\n",
        "plt.title('Population Trend of Top 10 Most Populated Countries (1960-2020)', fontsize=16)\n",
        "plt.xlabel('Year', fontsize=14)\n",
        "plt.ylabel('Population', fontsize=14)\n",
        "plt.legend(fontsize=12)\n",
        "plt.grid(True)\n",
        "plt.xticks(fontsize=12)\n",
        "plt.yticks(fontsize=12)\n",
        "plt.tight_layout()\n",
        "\n",
        "plt.show()"
      ],
      "metadata": {
        "id": "0mh9WFuKgCG8"
      },
      "execution_count": null,
      "outputs": []
    },
    {
      "cell_type": "markdown",
      "source": [
        "Question No 2"
      ],
      "metadata": {
        "id": "AfYax1xxgZWP"
      }
    },
    {
      "cell_type": "code",
      "source": [
        "import pandas as pd\n",
        "import matplotlib.pyplot as plt\n",
        "\n",
        "\n",
        "file_path = \"/content/drive/My Drive/IDS DATASETS/world_pop.csv\"\n",
        "data = pd.read_csv(file_path)\n"
      ],
      "metadata": {
        "id": "mFg0uG4ogbe7"
      },
      "execution_count": 6,
      "outputs": []
    },
    {
      "cell_type": "code",
      "source": [
        "# Task 1:\n",
        "data_2015 = data['year_2020']\n",
        "data_least_populous_2015 = data_2015.sort_values(by='Population').head(10)\n",
        "\n",
        "plt.figure(figsize=(10, 6))\n",
        "plt.barh(data_least_populous_2015['Country Name'], data_least_populous_2015['Population'], color='skyblue')\n",
        "plt.xlabel('Population')\n",
        "plt.ylabel('Country')\n",
        "plt.title('Population of 10 Least Populous Countries in 2015')\n",
        "plt.tight_layout()\n",
        "plt.show()"
      ],
      "metadata": {
        "id": "eGZY1exBgcXe"
      },
      "execution_count": null,
      "outputs": []
    },
    {
      "cell_type": "code",
      "source": [
        "# Task 2:\n",
        "countries = ['Pakistan', 'India', 'United States', 'United Kingdom']\n",
        "data_countries = data[data['country'].isin(countries)]\n",
        "data_countries_1970_2010 = data_countries[(data_countries['Year'] >= 1970) & (data_countries['Year'] <= 2010)]\n",
        "\n",
        "population_change = data_countries_1970_2010.pivot_table(index='Country Name', values='Population', aggfunc=lambda x: x.iloc[-1] - x.iloc[0])\n",
        "population_change_millions = population_change / 1e6\n",
        "\n",
        "plt.figure(figsize=(8, 6))\n",
        "plt.bar(population_change_millions.index, population_change_millions.values.flatten(), color='lightgreen')\n",
        "plt.xlabel('Country')\n",
        "plt.ylabel('Population Change (Millions)')\n",
        "plt.title('Population Change (1970-2010)')\n",
        "plt.tight_layout()\n",
        "plt.show()"
      ],
      "metadata": {
        "id": "nF6m19EkgcgK"
      },
      "execution_count": null,
      "outputs": []
    },
    {
      "cell_type": "code",
      "source": [
        "# Task 3:\n",
        "data_pakistan = data[data['Country Name'] == 'Pakistan']\n",
        "data_pakistan_2010_2020 = data_pakistan[(data_pakistan['Year'] >= 2010) & (data_pakistan['Year'] <= 2020)]\n",
        "\n",
        "plt.figure(figsize=(8, 6))\n",
        "plt.plot(data_pakistan_2010_2020['Year'], data_pakistan_2010_2020['Population'], marker='o', color='orange')\n",
        "plt.xlabel('Year')\n",
        "plt.ylabel('Population')\n",
        "plt.title('Population Growth in Pakistan (2010-2020)')\n",
        "plt.grid(True)\n",
        "plt.tight_layout()\n",
        "plt.show()"
      ],
      "metadata": {
        "id": "R2sYii28gcqf"
      },
      "execution_count": null,
      "outputs": []
    },
    {
      "cell_type": "markdown",
      "source": [
        "Question No 3\n"
      ],
      "metadata": {
        "id": "ZJLzwldZg9C-"
      }
    },
    {
      "cell_type": "code",
      "source": [
        "import pandas as pd\n",
        "import matplotlib.pyplot as plt\n",
        "\n",
        "\n",
        "diamonds_df = pd.read_csv('/content/drive/My Drive/IDS DATASETS/diamonds.csv')\n",
        "\n",
        "# Filter the dataset for diamonds with clarity = 'SI2' and color = 'E'\n",
        "filtered_diamonds = diamonds_df[(diamonds_df['clarity'] == 'SI2') & (diamonds_df['color'] == 'E')]\n",
        "\n",
        "# Define colors for different cuts\n",
        "cut_colors = {\n",
        "    'Fair': 'red',\n",
        "    'Good': 'orange',\n",
        "    'Very Good': 'yellow',\n",
        "    'Premium': 'green',\n",
        "    'Ideal': 'blue'\n",
        "}"
      ],
      "metadata": {
        "id": "yCPvd07EhAs1"
      },
      "execution_count": null,
      "outputs": []
    },
    {
      "cell_type": "code",
      "source": [
        "# Plotting\n",
        "plt.figure(figsize=(10, 6))\n",
        "\n",
        "for cut, color in cut_colors.items():\n",
        "    cut_data = filtered_diamonds[filtered_diamonds['cut'] == cut]\n",
        "    plt.scatter(cut_data['carat'], cut_data['price'], label=cut, color=color, alpha=0.5)\n",
        "\n",
        "plt.title('Relationship between Carat and Price of Diamonds (Clarity: SI2, Color: E)', fontsize=16)\n",
        "plt.xlabel('Carat', fontsize=14)\n",
        "plt.ylabel('Price', fontsize=14)\n",
        "plt.legend(title='Cut', fontsize=12)\n",
        "plt.grid(True)\n",
        "plt.xticks(fontsize=12)\n",
        "plt.yticks(fontsize=12)\n",
        "plt.tight_layout()\n",
        "plt.show()"
      ],
      "metadata": {
        "id": "mYKSLXz8hA0x"
      },
      "execution_count": null,
      "outputs": []
    },
    {
      "cell_type": "markdown",
      "source": [
        "Question No 4"
      ],
      "metadata": {
        "id": "eS6Z3J4Ahdu6"
      }
    },
    {
      "cell_type": "code",
      "source": [
        "import pandas as pd\n",
        "import folium\n",
        "from folium.plugins import MarkerCluster\n",
        "\n",
        "\n",
        "nuclear_sites_df = pd.read_csv('/content/drive/My Drive/IDS DATASETS/nuclear_waste_sites.csv')\n",
        "\n",
        "map_us = folium.Map(location=[37.0902, -95.7129], zoom_start=4)\n",
        "\n",
        "marker_cluster = MarkerCluster().add_to(map_us)\n",
        "\n",
        "for index, site in nuclear_sites_df.iterrows():\n",
        "    folium.Marker(location=[site['Latitude'], site['Longitude']], popup=site['Site Name']).add_to(marker_cluster)\n",
        "\n",
        "\n",
        "map_us"
      ],
      "metadata": {
        "id": "W-QhGe_shA3T"
      },
      "execution_count": null,
      "outputs": []
    },
    {
      "cell_type": "markdown",
      "source": [
        "Question No 5"
      ],
      "metadata": {
        "id": "M_bcQwExiiMQ"
      }
    },
    {
      "cell_type": "code",
      "source": [
        "import pandas as pd\n",
        "import folium\n",
        "\n",
        "\n",
        "heritage_sites_df = pd.read_csv('/content/drive/My Drive/IDS DATASETS/pak-heritage-sites.csv')\n",
        "\n",
        "map_pakistan = folium.Map(location=[30.3753, 69.3451], zoom_start=6)\n",
        "\n",
        "for index, site in heritage_sites_df.iterrows():\n",
        "    folium.Marker(location=[site['Latitude'], site['Longitude']], popup=site['Site Name']).add_to(map_pakistan)\n",
        "\n",
        "map_pakistan"
      ],
      "metadata": {
        "id": "yDtUC3J0hA5r"
      },
      "execution_count": null,
      "outputs": []
    }
  ]
}